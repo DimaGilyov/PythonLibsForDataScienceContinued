{
 "cells": [
  {
   "cell_type": "markdown",
   "id": "a5dbb170",
   "metadata": {},
   "source": [
    "## Урок 3. Построение модели классификации"
   ]
  },
  {
   "cell_type": "markdown",
   "id": "5d78e075",
   "metadata": {},
   "source": [
    "#### 1) Для чего и в каких случаях полезны различные варианты усреднения для метрик качества классификации: micro, macro, weighted?"
   ]
  },
  {
   "cell_type": "markdown",
   "id": "8aaa749b",
   "metadata": {},
   "source": [
    "* Макросреднее можно использовать, если нужно узнать, как система работает в целом по наборам данных. \n",
    "  Вы не должны принимать какое-то конкретное решение с этим средним значением.\n",
    "* Микросреднее может быть полезным показателем, когда набор данных различается по размеру.\n",
    "* Средневзвешанное может быть полезна при разном весе признаков."
   ]
  },
  {
   "cell_type": "markdown",
   "id": "dd27bf8a",
   "metadata": {},
   "source": [
    "#### В чём разница между моделями xgboost, lightgbm и catboost или какие их основные особенности?"
   ]
  },
  {
   "cell_type": "markdown",
   "id": "fd6dcff3",
   "metadata": {},
   "source": [
    "**XGBoost** - дерево строится быстро (не нужно проверять каждый лист). \n",
    "Отсечение листьев помогает избежать ненужной глубины и переобучения.\n",
    "Используем регугяризацию.\n",
    "\n",
    "**LightGBM** - самая быстрая скорость среди алгоритмов XGBoost и  СatBoost \n",
    "В LightGBM используется GOSS (Упорядоченноя выборка по градиенту).\n",
    "\n",
    "**СatBoost** - Дерево для принятия решения строится сбалансированно.\n",
    "Скорость принятия решения очень быстрое. Работает с категориальными данными."
   ]
  },
  {
   "cell_type": "code",
   "execution_count": null,
   "id": "b547e9d4",
   "metadata": {},
   "outputs": [],
   "source": []
  }
 ],
 "metadata": {
  "kernelspec": {
   "display_name": "Python 3 (ipykernel)",
   "language": "python",
   "name": "python3"
  },
  "language_info": {
   "codemirror_mode": {
    "name": "ipython",
    "version": 3
   },
   "file_extension": ".py",
   "mimetype": "text/x-python",
   "name": "python",
   "nbconvert_exporter": "python",
   "pygments_lexer": "ipython3",
   "version": "3.9.2"
  }
 },
 "nbformat": 4,
 "nbformat_minor": 5
}
