{
 "cells": [
  {
   "cell_type": "markdown",
   "id": "a5dbb170",
   "metadata": {},
   "source": [
    "## Урок 2. Анализ данных и проверка статистических гипотез"
   ]
  },
  {
   "cell_type": "markdown",
   "id": "5d78e075",
   "metadata": {},
   "source": [
    "#### В чём различие между зависимыми и независимыми выборками?"
   ]
  },
  {
   "cell_type": "markdown",
   "id": "8aaa749b",
   "metadata": {},
   "source": [
    "* Зависимые выборки это те выборки где сравнивается одна и та же группа в разных состояния (Например: ДО и ПОСЛЕ).\n",
    "* Независимые выборки это те выборки где сравнивается две или более различных групп."
   ]
  },
  {
   "cell_type": "markdown",
   "id": "dd27bf8a",
   "metadata": {},
   "source": [
    "#### Когда применяются параметрические статистические критерии, а когда — их непараметрические аналоги?"
   ]
  },
  {
   "cell_type": "markdown",
   "id": "53bb696d",
   "metadata": {},
   "source": [
    "* Непараметрические методы наиболее приемлемы, когда объем выборок мал. Если данных много (например, n > 100), то не имеет смысла использовать непараметрические статистики. "
   ]
  },
  {
   "cell_type": "code",
   "execution_count": null,
   "id": "b84b91f5",
   "metadata": {},
   "outputs": [],
   "source": []
  }
 ],
 "metadata": {
  "kernelspec": {
   "display_name": "Python 3 (ipykernel)",
   "language": "python",
   "name": "python3"
  },
  "language_info": {
   "codemirror_mode": {
    "name": "ipython",
    "version": 3
   },
   "file_extension": ".py",
   "mimetype": "text/x-python",
   "name": "python",
   "nbconvert_exporter": "python",
   "pygments_lexer": "ipython3",
   "version": "3.9.2"
  }
 },
 "nbformat": 4,
 "nbformat_minor": 5
}
